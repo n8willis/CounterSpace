{
 "cells": [
  {
   "cell_type": "markdown",
   "metadata": {
    "colab_type": "text",
    "id": "YvDl6oFTtlPj"
   },
   "source": [
    "# Countershape Autospacer\n",
    "\n",
    "Hit `Runtime > Run All` and look at the hamburgefonsiv at the bottom!"
   ]
  },
  {
   "cell_type": "code",
   "execution_count": 3,
   "metadata": {
    "colab": {},
    "colab_type": "code",
    "id": "XxEoU6P_tehi"
   },
   "outputs": [],
   "source": [
    "#%matplotlib notebook\n",
    "\n",
    "# Spacing parameters:\n",
    "\n",
    "# Minimum ink-to-ink distance. Increase this if \"VV\" is too close.\n",
    "bare_minimum = 2\n",
    "# Serif smoothing. Doesn't make a huge difference but increase if you have prominent serifs.\n",
    "serif_smoothing = 2\n",
    "\n",
    "# These are pairs with trusted spacings. We derive the parameters from these.\n",
    "# If you don't like the result, space a pair manually and add it to this list.\n",
    "key_pairs = [\"HH\",\"OO\",\"HO\",\"OH\",\"EE\",\"AV\"]"
   ]
  },
  {
   "cell_type": "code",
   "execution_count": 4,
   "metadata": {
    "colab": {
     "base_uri": "https://localhost:8080/",
     "height": 616
    },
    "colab_type": "code",
    "id": "5e9e19ROoMRx",
    "outputId": "42f046e3-2505-45ac-ec45-5270151f6fc5"
   },
   "outputs": [],
   "source": [
    "#!wget -q -O CrimsonRoman.otf https://github.com/skosch/Crimson/blob/master/Desktop%20Fonts/OTF/Crimson-Roman.otf?raw=true\n",
    "#!wget -q -O Tinos-Italic.ttf https://github.com/jenskutilek/free-fonts/raw/master/Tinos/TTF/Tinos-Italic.ttf\n",
    "#!wget -q -O PTSerif-Italic.ttf https://github.com/divspace/pt-serif/raw/master/fonts/pt-serif/pt-serif-italic.ttf\n",
    "#!wget -q -O Crimson-SemiboldItalic.otf https://github.com/skosch/Crimson/raw/master/Desktop%20Fonts/OTF/Crimson-SemiboldItalic.otf\n",
    "#!pip install --upgrade git+git://github.com/simoncozens/tensorfont.git"
   ]
  },
  {
   "cell_type": "code",
   "execution_count": 5,
   "metadata": {
    "colab": {},
    "colab_type": "code",
    "id": "9QCHYm9coE0r"
   },
   "outputs": [],
   "source": [
    "import numpy as np\n",
    "from scipy.signal import convolve\n",
    "from tensorfont import Font,GlyphRendering\n",
    "import scipy\n",
    "import string\n",
    "import matplotlib.pyplot as plt\n",
    "import sys\n",
    "from skimage.util import pad\n",
    "from skimage.morphology import convex_hull_image\n",
    "from scipy.ndimage import distance_transform_edt, distance_transform_cdt"
   ]
  },
  {
   "cell_type": "code",
   "execution_count": 7,
   "metadata": {
    "colab": {},
    "colab_type": "code",
    "id": "dgx56w9OoE0x"
   },
   "outputs": [
    {
     "name": "stdout",
     "output_type": "stream",
     "text": [
      "0.5700934579439252\n",
      "0.19402985074626866\n"
     ]
    },
    {
     "data": {
      "text/plain": [
       "<matplotlib.image.AxesImage at 0x11bdb3110>"
      ]
     },
     "execution_count": 7,
     "metadata": {},
     "output_type": "execute_result"
    },
    {
     "data": {
      "image/png": "[encoded data removed]",
      "text/plain": [
       "<Figure size 432x288 with 1 Axes>"
      ]
     },
     "metadata": {
      "needs_background": "light"
     },
     "output_type": "display_data"
    }
   ],
   "source": [
    "factor = 90\n",
    "# f = Font(\"CrimsonRoman.otf\", 34 * factor)\n",
    "# f = Font(\"Tinos-Italic.ttf\", 34 * factor)\n",
    "# f = Font(\"OpenSans-Regular.ttf\", 34 * factor)\n",
    "# f = Font(\"PTSerif-Italic.ttf\", 34 * factor)\n",
    "f = Font(\"Crimson-SemiboldItalic.otf\", factor)\n",
    "\n",
    "\n",
    "box_height = f.full_height_px\n",
    "box_width = 300# int(1.5 * f.m_width)\n",
    "theta = f.italic_angle * np.pi/180\n",
    "alpha = (90 - f.italic_angle) * np.pi/180\n",
    "# print(f.scale_factor)\n",
    "\n",
    "def rotated_mgrid(rot_rad=0):\n",
    "    \"\"\"Generate a meshgrid and rotate it by RotRad radians.\"\"\"\n",
    "    rotation = np.array([[np.cos(rot_rad),  np.sin(rot_rad)],\n",
    "                          [-np.sin(rot_rad), np.cos(rot_rad)]])\n",
    "    hh = box_height / 2.\n",
    "    bw = box_width / 2.\n",
    "    y, x = np.mgrid[-hh:hh, -bw:bw] + 1.\n",
    "    return np.einsum('ji, mni -> jmn', rotation, np.dstack([x, y]))\n",
    "\n",
    "fx, fy = rotated_mgrid(0)\n",
    "\n",
    "from functools import lru_cache\n",
    "\n",
    "#@lru_cache(maxsize=None)\n",
    "def kernel(width, height):\n",
    "    s = width\n",
    "    a = np.log(1.5*np.pi)/(s*(1+np.abs(theta)))\n",
    "    lim = max(np.log(2*np.pi)/a, 1.)\n",
    "    lkernel = -np.sin(np.exp(a*fx)) * np.where(fx<lim, 1, 0) * a**2 * np.exp(-(fy/height)**2/2.)\n",
    "    rkernel = -np.sin(np.exp(-a*fx)) * np.where(fx>-lim, 1, 0) * a**2 * np.exp(-(fy/height)**2/2.)\n",
    "    lkernel *= lkernel > 0\n",
    "    rkernel *= rkernel > 0\n",
    "    return rkernel\n",
    "\n",
    "# Various caches\n",
    "_counters = {}\n",
    "def counters(glyph):\n",
    "    if glyph in _counters: return _counters[glyph]\n",
    "    fg = f.glyph(glyph)\n",
    "    _counters[glyph] = fg.as_matrix(normalize=True).with_padding_to_constant_box_width(box_width).mask_ink_to_edge()\n",
    "    return _counters[glyph]\n",
    "\n",
    "kernel_size = serif_smoothing\n",
    "@lru_cache()\n",
    "def lshifted_counter(glyph,amount, reftop, refbottom):\n",
    "    fg = f.glyph(glyph).as_matrix()\n",
    "    fg = GlyphRendering.init_from_numpy(fg._glyph,convolve(fg,kernel(kernel_size,kernel_size),mode=\"same\") > 250)\n",
    "    conc = 0\n",
    "    if fg.discontinuity(contour=\"right\") > 0:\n",
    "        conc = 1-fg.right_face()\n",
    "    padded = fg.with_padding_to_constant_box_width(box_width)\n",
    "    padded[0:reftop,:]   = 0\n",
    "    padded[refbottom:,:] = 0\n",
    "    padded = padded.reduce_concavity(conc)\n",
    "    c = scipy.ndimage.shift(padded, (0,amount), mode=\"nearest\")\n",
    "    l,r = GlyphRendering.init_from_numpy(glyph, c).mask_ink_to_edge()\n",
    "    r = (r>0).astype(np.uint8)\n",
    "    return r\n",
    "\n",
    "\n",
    "@lru_cache()\n",
    "def rshifted_counter(glyph,amount,reftop, refbottom):\n",
    "    fg = f.glyph(glyph).as_matrix()\n",
    "    fg = GlyphRendering.init_from_numpy(fg._glyph,convolve(fg,kernel(kernel_size,kernel_size),mode=\"same\") > 250)\n",
    "    conc = 0\n",
    "    if fg.discontinuity(contour=\"left\") > 0:\n",
    "        conc = 1-fg.left_face()\n",
    "    padded = fg.with_padding_to_constant_box_width(box_width)\n",
    "    padded[0:reftop,:]   = 0\n",
    "    padded[refbottom:,:] = 0\n",
    "    padded = padded.reduce_concavity(conc)\n",
    "    c = scipy.ndimage.shift(padded, (0,amount), mode=\"nearest\")\n",
    "    l,r = GlyphRendering.init_from_numpy(glyph, c).mask_ink_to_edge()\n",
    "    l = (l>0).astype(np.uint8)\n",
    "    return l\n",
    "\n",
    "lshifted_counter.cache_clear()\n",
    "rshifted_counter.cache_clear()\n",
    "\n",
    "def gaussian(center_x, center_y, width_x, width_y, rotation):\n",
    "    \"\"\"Returns a gaussian function with the given parameters\"\"\"\n",
    "    width_x = float(width_x)\n",
    "    width_y = float(width_y)\n",
    "#     print(\"Gaussian with parameters\",center_x, center_y, width_x, width_y, rotation)\n",
    "    center_x = box_width/2 - center_x\n",
    "    center_y = box_height/2 - (box_height - center_y)\n",
    "    center_x = center_x * np.cos(rotation) - center_y * np.sin(rotation)\n",
    "    center_y = center_x * np.sin(rotation) + center_y * np.cos(rotation)\n",
    "\n",
    "    xp = fx * np.cos(rotation) - fy * np.sin(rotation)\n",
    "    yp = fx * np.sin(rotation) + fy * np.cos(rotation)\n",
    "    g = np.exp(\n",
    "        -(((center_x-xp)/width_x)**2+\n",
    "          ((center_y-yp)/width_y)**2)/2.)\n",
    "    return np.flip(g,axis=1)\n",
    "\n",
    "l = f.glyph(\"L\").as_matrix().discontinuity(contour=\"right\")\n",
    "print(l)\n",
    "print( f.glyph(\"L\").as_matrix().right_face())\n",
    "\n",
    "# c = rshifted_counter(\"L\",50,0.5)\n",
    "d = lshifted_counter(\"L\",0,20,150)\n",
    "plt.imshow(d)\n",
    "# plt.imshow(gaussian(100,50,5,20,0.17))\n",
    "# print(np.sum(c))"
   ]
  },
  {
   "cell_type": "markdown",
   "metadata": {
    "colab_type": "text",
    "id": "7gN-Uo_L8URB"
   },
   "source": [
    "The function `pair_areas` is the meat of the procedure. It determines the area of the counterspace between a pair of glyphs."
   ]
  },
  {
   "cell_type": "code",
   "execution_count": 8,
   "metadata": {
    "colab": {},
    "colab_type": "code",
    "id": "snRhxiHuoE0-"
   },
   "outputs": [],
   "source": [
    "from scipy import ndimage\n",
    "from scipy.ndimage.interpolation import rotate\n",
    "\n",
    "def pair_areas(l, r, options, dist = None,reference=\"HH\"):\n",
    "    lref, rref = [f.glyph(r) for r in reference]\n",
    "    reftop = min(lref.tsb,rref.tsb)\n",
    "    refbottom = min(lref.tsb+lref.ink_height, rref.tsb+rref.ink_height)\n",
    "\n",
    "    sigmas_top    = (options[\"w_top\"], options[\"h_top\"])\n",
    "    sigmas_bottom = (options[\"w_bottom\"], options[\"h_bottom\"])\n",
    "    sigmas_center = (options[\"w_center\"], options[\"h_center\"])\n",
    "\n",
    "    kernel_dimensions = (options[\"serif_smoothing\"], options[\"serif_smoothing\"])\n",
    "    top_strength = options[\"top_strength\"]\n",
    "    bottom_strength = options[\"bottom_strength\"]\n",
    "    center_strength = options[\"center_strength\"]\n",
    "\n",
    "    if dist is None:\n",
    "          dist = f.pair_distance(l,r)\n",
    "    shift_l, shift_r = f.shift_distances(l,r,dist)\n",
    "\n",
    "    redgeofl = (box_width - f.glyph(l).ink_width) / 2.0 + f.glyph(l).ink_width + shift_l\n",
    "    ledgeofr = box_width-((box_width - f.glyph(r).ink_width) / 2.0 + f.glyph(r).ink_width) + shift_r\n",
    "    center = (redgeofl + ledgeofr)/2 - f.minimum_ink_distance(l, r) / 2\n",
    "    midline = (reftop+refbottom)/2 - box_height/2\n",
    "\n",
    "    # This mask ensures we only care about the area \"between\" the\n",
    "    # glyphs, and don't get into e.g. interior counters of \"PP\"\n",
    "    l_shifted = lshifted_counter(l,shift_l,reftop,refbottom)\n",
    "    r_shifted = rshifted_counter(r,shift_r,reftop,refbottom)\n",
    "    ink_mask =  (l_shifted > 0) & (r_shifted > 0)\n",
    "    ink_mask[0:reftop,:] = 0\n",
    "    ink_mask[refbottom:,:] = 0\n",
    "\n",
    "    # If the light was from the middle, this is where it would be\n",
    "    union = np.array(((l_shifted + r_shifted) * ink_mask) > 0)\n",
    "#     print(\"Union before light:\", np.sum(union))\n",
    "    y_center, x_center = ndimage.measurements.center_of_mass(union)\n",
    "    if np.isnan(y_center) or np.isnan(y_center): return union\n",
    "# #     print(x_center,y_center)\n",
    "#     # Find top and bottom light sources\n",
    "    top_x = int((x_center) + (y_center) / np.tan(alpha))\n",
    "    bottom_x = int((x_center) - (box_height-y_center) / np.tan(alpha))\n",
    "    top_y = 0\n",
    "    bottom_y = box_height\n",
    "\n",
    "    # Blur the countershape slightly\n",
    "    union = union > 0\n",
    "#     union = convolve(union,kernel(kdims[0],kdims[1]),mode=\"same\")\n",
    "    \n",
    "    # Now shine two lights from top and bottom  \n",
    "    toplight = gaussian(top_x,top_y,sigmas_top[0],sigmas_top[1],theta)\n",
    "    bottomlight = gaussian(bottom_x,bottom_y,sigmas_bottom[0],sigmas_bottom[1],theta)\n",
    "    centerlight = gaussian(x_center,y_center,sigmas_center[0],sigmas_center[1],theta)\n",
    "\n",
    "    fnonz = False\n",
    "    for i in range(reftop+1,refbottom):\n",
    "        if fnonz:\n",
    "            toplight[i,:] = toplight[i,:] * (toplight[i-1,:] > 0) * (union[i,:] > 0)\n",
    "        else:\n",
    "            if np.any(toplight[i,:] > 0):\n",
    "                fnonz = True\n",
    "    fnonz = False\n",
    "    for i in range(refbottom-1,reftop,-1):\n",
    "        if fnonz:\n",
    "            bottomlight[i,:] = bottomlight[i,:] * (bottomlight[i+1,:] > 0) * (union[i,:] > 0)\n",
    "        else:\n",
    "            if np.any(toplight[i,:] > 0):\n",
    "                fnonz = True\n",
    "\n",
    "        #     print(\"Total light:\", np.sum( top_strength * toplight + bottomlight ))\n",
    "    union =  centerlight * center_strength * union + union * bottomlight * bottom_strength + union * ( top_strength * toplight)\n",
    "    return union\n",
    "\n",
    "# plt.imshow(pair_areas(\"Y\",\"Z\",options))"
   ]
  },
  {
   "cell_type": "code",
   "execution_count": 9,
   "metadata": {},
   "outputs": [
    {
     "name": "stdout",
     "output_type": "stream",
     "text": [
      "[(50, 200), (5, 25), (1, 1), (50, 200), (5, 25), (0.25, 1), (50, 200), (5, 50), (0.25, 1)]\n",
      "{'w_top': 25.0, 'w_bottom': 50.0, 'h_top': 114.7851272520847, 'h_bottom': 200.0, 'w_center': 25.0, 'top_strength': 0.2591137006015358, 'bottom_strength': 0.365167116428417, 'serif_smoothing': 0, 'h_center': 200.0, 'center_strength': 1.0}\n"
     ]
    }
   ],
   "source": [
    "from scipy.optimize import least_squares, fminbound, minimize\n",
    "bounds_for = {\n",
    "    \"w_center\": (5,25),\n",
    "    \"h_center\": (50,200),\n",
    "    \"w_top\": (5,25),\n",
    "    \"h_top\": (50,200),\n",
    "    \"w_bottom\": (5,50),\n",
    "    \"h_bottom\": (50,200),\n",
    "    \"center_strength\": (1,1),\n",
    "    \"top_strength\": (0.25,1),\n",
    "    \"bottom_strength\": (0.25,1),\n",
    "}\n",
    "def solve_for(*, variables, strings, guess, options):\n",
    "    reference = strings.pop(0)\n",
    "    bounds = [bounds_for[v] for v in variables]\n",
    "    print(bounds)\n",
    "    def comparator(o):\n",
    "        for ix,var in enumerate(variables):\n",
    "            options[var] = o[ix]\n",
    "#         print(o)\n",
    "        HH = np.sum(pair_areas(reference[0],reference[1],options))\n",
    "        err = []\n",
    "        for s in strings:\n",
    "            val = np.sum(pair_areas(s[0],s[1],options))\n",
    "            err.append( ( val - HH) / HH )\n",
    "        err = np.sum(np.array(err) ** 2)\n",
    "#         print(err)\n",
    "        return err\n",
    "    result = minimize(comparator,guess,method=\"TNC\",\n",
    "                      options = {\"disp\": True}, bounds=bounds)\n",
    "    for ix,var in enumerate(variables):\n",
    "        options[var] = result.x[ix]\n",
    "    return options\n",
    "\n",
    "options = solve_for(\n",
    "    variables = [\"h_center\",\"w_center\",\"center_strength\",\"h_top\",\"w_top\",\"top_strength\",\"h_bottom\",\"w_bottom\",\"bottom_strength\"],\n",
    "    strings = key_pairs,\n",
    "    options = {\n",
    "        \"w_top\": 1,\n",
    "        \"w_bottom\": 1,\n",
    "        \"h_top\": 1,\n",
    "        \"h_bottom\": 1,\n",
    "        \"w_center\": 50,\n",
    "        \"top_strength\": 1,\n",
    "        \"bottom_strength\": 1,\n",
    "        \"serif_smoothing\": 0,\n",
    "    },\n",
    "    guess = [200,200,5,200,200,5,200,200,5]\n",
    ")\n",
    "print(options)"
   ]
  },
  {
   "cell_type": "markdown",
   "metadata": {
    "colab_type": "text",
    "id": "h1dvl3VS8fqZ"
   },
   "source": [
    "Test this procedure to make sure it's working. If it works well, then the area found for the two comparison pairs will be very similar to the area for the reference pair. If not, the parameters need tuning."
   ]
  },
  {
   "cell_type": "code",
   "execution_count": 10,
   "metadata": {
    "colab": {
     "base_uri": "https://localhost:8080/",
     "height": 208
    },
    "colab_type": "code",
    "id": "swj32VZx8c4L",
    "outputId": "2456145a-3e8b-4a5e-e8bf-d8461299894d",
    "scrolled": true
   },
   "outputs": [
    {
     "name": "stdout",
     "output_type": "stream",
     "text": [
      "HH as percent of HH = 100.000000\n",
      "UR as percent of HH = 104.412362\n",
      "VJ as percent of HH = 117.262982\n",
      "VH as percent of HH = 117.837147\n"
     ]
    },
    {
     "data": {
      "image/png": "[encoded data removed]",
      "text/plain": [
       "<Figure size 1440x1440 with 4 Axes>"
      ]
     },
     "metadata": {
      "needs_background": "light"
     },
     "output_type": "display_data"
    }
   ],
   "source": [
    "strings = [\"HH\", \"UR\",\"VJ\",\"VH\"]\n",
    "reference = strings[0]\n",
    "\n",
    "fig, ax = plt.subplots(1,len(strings),figsize = (20,20))\n",
    "matrices = [ pair_areas(s[0],s[1],options,reference=reference) for s in strings]\n",
    "\n",
    "for i in range(0,len(strings)):\n",
    "    ax[i].imshow(matrices[i])\n",
    "# # ax[1].imshow(ls)\n",
    "    print(\"%s as percent of %s = %f\" % (strings[i], reference, 100*np.sum(matrices[i])/np.sum(matrices[0])))\n"
   ]
  },
  {
   "cell_type": "markdown",
   "metadata": {
    "colab_type": "text",
    "id": "THzbIDiz83NA"
   },
   "source": [
    "Now we have the area function, we can build our spacer. The idea is to start at the bare minimum distance (generally you don't want glyphs to touch, but have a bit of breathing space between them) and then move the glyphs steadily outwards until their area meets the reference. The graph will show the way the area changes will distance."
   ]
  },
  {
   "cell_type": "code",
   "execution_count": 11,
   "metadata": {
    "colab": {},
    "colab_type": "code",
    "id": "rTe9oNjHoE1E"
   },
   "outputs": [],
   "source": [
    "pdd = {} # This will contain our resulting \"spacing table\"\n",
    "mse = 0\n",
    "\n",
    "def space(l,r, plot=False):\n",
    "    reference = \"HH\"\n",
    "    if l in string.ascii_lowercase and r in string.ascii_lowercase:\n",
    "      reference = \"nn\"\n",
    "    if l in string.ascii_uppercase and r in string.ascii_lowercase:\n",
    "      reference = \"nn\" # NOTE!\n",
    "    if l in string.ascii_lowercase and r in string.ascii_uppercase:\n",
    "      reference = \"nn\"\n",
    "    u_good = pair_areas(reference[0],reference[1], options, reference=reference)\n",
    "    expected = f.pair_distance(l,r)\n",
    "    mid = f.minimum_ink_distance(l, r)\n",
    "#     mad = f.maximum_ink_distance(l, r)\n",
    "    u_good = np.sum(u_good)\n",
    "#     print(\"Target: %i\" % u_good)\n",
    "#     print(\"MID = %i, MAD = %i\" % (mid,mad))\n",
    "    xs = []\n",
    "    ys_union = []\n",
    "    ys_intersection = []\n",
    "    rv = None\n",
    "    peak = -1\n",
    "    peak_idx = -1\n",
    "    goneover = False\n",
    "\n",
    "    for n in range(-mid+bare_minimum,60,1):\n",
    "        u = pair_areas(l,r,options,dist=n, reference=reference)\n",
    "        xs.append(n)\n",
    "        u = np.sum(u)\n",
    "        ys_union.append(u)\n",
    "#         print(n,np.sum(u))\n",
    "#         ys_intersection.append(np.sum(i))\n",
    "        if n == expected and plot:\n",
    "            plt.plot([n,n],[0,u],color='r')\n",
    "        if u > u_good:\n",
    "            goneover = True\n",
    "            rv = n\n",
    "            break\n",
    "        if u > peak:\n",
    "            peak = u\n",
    "            peak_idx = n\n",
    "#     print(\"rv is\", rv)\n",
    "    if plot:\n",
    "        plt.plot(xs,ys_union)\n",
    "        plt.plot([min(xs),40],[u_good,u_good],color='g')\n",
    "    if rv is None:\n",
    "#         return peak_idx\n",
    "      return -mid+bare_minimum\n",
    "    return rv\n",
    "\n",
    "def compare(s, plot=False):\n",
    "    global pdd\n",
    "    found = space(s[0],s[1],plot=plot)\n",
    "    good = f.pair_distance(s[0],s[1])\n",
    "    pdd[(s[0],s[1])] = found\n",
    "    if abs(found-good) > 5:\n",
    "        ok=\"!!!\"\n",
    "    else:\n",
    "        ok=\"\"\n",
    "    print(\"%s: pred=%i true=%i %s\" % (s,found/f.scale_factor,good/f.scale_factor, ok))\n",
    "\n",
    "from itertools import tee\n",
    "def pairwise(iterable):\n",
    "  a, b = tee(iterable)\n",
    "  next(b, None)\n",
    "  return zip(a, b)\n",
    "\n",
    "def fill_pdd(s):\n",
    "  for l,r in pairwise(s):\n",
    "    if not (l,r) in pdd: compare((l,r))"
   ]
  },
  {
   "cell_type": "markdown",
   "metadata": {
    "colab_type": "text",
    "id": "K04P4160qDUg"
   },
   "source": [
    "In the following graphs, the blue line is the union area when glyphs are set at a given distance. The green line is the target area (so the computed space is the X coordinate where green and blue intersect). The red line is the spacing value from the font."
   ]
  },
  {
   "cell_type": "code",
   "execution_count": 12,
   "metadata": {
    "colab": {
     "base_uri": "https://localhost:8080/",
     "height": 286
    },
    "colab_type": "code",
    "id": "xiW1tLSUoE1N",
    "outputId": "8860d54b-d429-4e4d-bb85-ee3632dc6dda"
   },
   "outputs": [
    {
     "name": "stdout",
     "output_type": "stream",
     "text": [
      "XX: pred=-104 true=-129 \n"
     ]
    },
    {
     "data": {
      "image/png": "[encoded data removed]",
      "text/plain": [
       "<Figure size 432x288 with 1 Axes>"
      ]
     },
     "metadata": {
      "needs_background": "light"
     },
     "output_type": "display_data"
    }
   ],
   "source": [
    "compare(\"XX\",plot=True)\n",
    "# for s in [\"BB\",\"OO\",\"RD\",\"FO\",\"CO\"]:\n",
    "#     compare(s)"
   ]
  },
  {
   "cell_type": "markdown",
   "metadata": {
    "colab_type": "text",
    "id": "TCkCTxvw9aET"
   },
   "source": [
    "AV can often work fine if set tighter than designers have set it. Remember that all this stuff is pretty subjective anyway. Let's try a few more pairs."
   ]
  },
  {
   "cell_type": "code",
   "execution_count": null,
   "metadata": {
    "colab": {
     "base_uri": "https://localhost:8080/",
     "height": 153
    },
    "colab_type": "code",
    "id": "-Mw-HyT3s1AG",
    "outputId": "5fa06028-dba1-4ff7-89b4-0924ce47a33d"
   },
   "outputs": [
    {
     "name": "stdout",
     "output_type": "stream",
     "text": [
      "XX: pred=-104 true=-129 \n",
      "DV: pred=29 true=28 \n",
      "VF: pred=-124 true=-104 \n",
      "FA: pred=-164 true=-130 !!!\n"
     ]
    }
   ],
   "source": [
    "for s in [\"XX\",\"DV\",\"VF\",\"FA\",\"AV\",\"tx\", \"VV\",\"no\",\"ga\",\"LH\"]:\n",
    "    compare(s, plot=True)"
   ]
  },
  {
   "cell_type": "markdown",
   "metadata": {
    "colab_type": "text",
    "id": "1UZbSd5z9iv5"
   },
   "source": [
    "Here's what all those pairs look like when set together as a string. The number is the mean squared error between the values in the font and the values derived from the autospacer. (Lower is better.) But the real proof is by eye."
   ]
  },
  {
   "cell_type": "code",
   "execution_count": 123,
   "metadata": {
    "colab": {
     "base_uri": "https://localhost:8080/",
     "height": 367
    },
    "colab_type": "code",
    "id": "BlbQ5jO4oE1c",
    "outputId": "88f8b3ab-f569-48f9-ddfb-7da72359e03a"
   },
   "outputs": [
    {
     "name": "stdout",
     "output_type": "stream",
     "text": [
      "('H', 'O'): pred=-28 true=-42 \n",
      "('O', 'H'): pred=-28 true=-28 \n",
      "('H', 'A'): pred=-280 true=-280 \n",
      "('V', 'X'): pred=-280 true=-310 \n",
      "('X', 'D'): pred=-140 true=-182 \n",
      "('V', 't'): pred=-252 true=-165 !!!\n",
      "('x', 'V'): pred=-56 true=154 !!!\n",
      "('V', 'n'): pred=-308 true=-224 !!!\n",
      "('o', 'g'): pred=14 true=-42 \n"
     ]
    },
    {
     "data": {
      "text/plain": [
       "<matplotlib.image.AxesImage at 0x12dbafb90>"
      ]
     },
     "execution_count": 123,
     "metadata": {},
     "output_type": "execute_result"
    },
    {
     "data": {
      "image/png": "[encoded data removed]",
      "text/plain": [
       "<Figure size 720x720 with 1 Axes>"
      ]
     },
     "metadata": {
      "needs_background": "light"
     },
     "output_type": "display_data"
    }
   ],
   "source": [
    "fig2 = plt.figure(figsize = (10,10))\n",
    "pairstring = \"HOHAVXXDVVFAVtxVVnoga\"\n",
    "# pairstring = \"nin\"\n",
    "fill_pdd(pairstring)\n",
    "fig2.add_subplot(111).imshow(np.clip(f.set_string(pairstring,pdd),None,400))"
   ]
  },
  {
   "cell_type": "markdown",
   "metadata": {
    "colab_type": "text",
    "id": "BbZ9UbXC-F82"
   },
   "source": [
    "And here's a hamburgefonsiv"
   ]
  },
  {
   "cell_type": "code",
   "execution_count": 124,
   "metadata": {
    "colab": {
     "base_uri": "https://localhost:8080/",
     "height": 506
    },
    "colab_type": "code",
    "id": "oqgQy6bjH-Px",
    "outputId": "db2cd99c-1d2d-44fd-a5cc-c4848e941631"
   },
   "outputs": [
    {
     "name": "stdout",
     "output_type": "stream",
     "text": [
      "('A', 'H'): pred=28 true=28 \n",
      "('H', 'L'): pred=-182 true=-210 \n",
      "('L', 'V'): pred=14 true=21 \n",
      "('V', 'O'): pred=-182 true=-180 \n",
      "('O', 'Y'): pred=14 true=110 !!!\n",
      "('Y', 'X'): pred=-280 true=-310 \n",
      "('X', 'G'): pred=-112 true=-84 \n",
      "('G', 'A'): pred=-154 true=-154 \n",
      "('V', 'J'): pred=-308 true=-294 \n",
      "('J', 'G'): pred=-28 true=0 \n",
      "('G', 'S'): pred=84 true=0 !!!\n"
     ]
    },
    {
     "data": {
      "text/plain": [
       "Text(0.5, 1.0, 'original')"
      ]
     },
     "execution_count": 124,
     "metadata": {},
     "output_type": "execute_result"
    },
    {
     "data": {
      "image/png": "[encoded data removed]",
      "text/plain": [
       "<Figure size 1440x360 with 2 Axes>"
      ]
     },
     "metadata": {
      "needs_background": "light"
     },
     "output_type": "display_data"
    }
   ],
   "source": [
    "teststring = \"HOHAHLVOYXGAVJGS\"\n",
    "fill_pdd(teststring)\n",
    "\n",
    "fig, ax = plt.subplots(2,1,figsize=(20,5))\n",
    "ax[0].imshow(np.clip(f.set_string(teststring,pdd),None,400))\n",
    "ax[0].set_title(\"autokerned\")\n",
    "ax[1].imshow(np.clip(f.set_string(teststring),0,255))\n",
    "ax[1].set_title(\"original\")"
   ]
  },
  {
   "cell_type": "markdown",
   "metadata": {},
   "source": [
    "## Space all the things!\n",
    "\n",
    "This will take a long time."
   ]
  },
  {
   "cell_type": "code",
   "execution_count": null,
   "metadata": {},
   "outputs": [],
   "source": [
    "for l in string.ascii_letters:\n",
    "    print(l, end=' ', file=sys.stdout, flush=True)\n",
    "    for r in string.ascii_letters:\n",
    "        pdd[(l,r)] = space(l,r)\n",
    "print(\"\")"
   ]
  },
  {
   "cell_type": "code",
   "execution_count": null,
   "metadata": {},
   "outputs": [],
   "source": [
    "print(\"    \" + (\"   \".join(string.ascii_lowercase)))\n",
    "for l in string.ascii_lowercase:\n",
    "    print(l, end=' ', file=sys.stdout, flush=True)\n",
    "    for r in string.ascii_lowercase:\n",
    "        print(\"%3i\" % (float(pdd[(l,r)]) / f.scale_factor), end=' ', file=sys.stdout, flush=True)\n",
    "    print(\"\")\n"
   ]
  },
  {
   "cell_type": "code",
   "execution_count": null,
   "metadata": {},
   "outputs": [],
   "source": [
    "from fontTools.ttLib import TTFont\n",
    "ttfont = TTFont(f.filename)\n",
    "if not \"glyf\" in ttfont:\n",
    "    print(\"Truetype only. :-(\")\n",
    "\n",
    "def set_sidebearings(g,new_lsb,new_rsb):\n",
    "    old_width, old_lsb = ttfont[\"hmtx\"].metrics[g]\n",
    "    old_rsb = old_width - max([f[0] for f in ttfont[\"glyf\"][g].coordinates])\n",
    "    ink_width = old_width - (old_lsb+old_rsb)\n",
    "    ttfont[\"hmtx\"].metrics[g] = (new_lsb+ink_width+new_rsb, new_lsb)\n",
    "    ttfont[\"glyf\"][g].coordinates -= (old_lsb-new_lsb,0)\n",
    "\n",
    "# # Trash sidebearings\n",
    "# for g in string.ascii_letters:\n",
    "#     set_sidebearings(g,0,0)\n",
    "\n",
    "# # Fill kern table\n",
    "# del ttfont[\"GPOS\"]\n",
    "# for l in string.ascii_letters:\n",
    "#     for r in string.ascii_letters:\n",
    "#         ttfont[\"kern\"].kernTables[0][l,r] = int(float(pdd[(l,r)]) / f.scale_factor)\n",
    "\n",
    "# ttfont.save(\"autokerned-\"+f.filename)\n"
   ]
  },
  {
   "cell_type": "code",
   "execution_count": null,
   "metadata": {},
   "outputs": [],
   "source": [
    "from fontTools.ttLib import TTFont\n",
    "ttfont = TTFont(f.filename)\n",
    "if not \"glyf\" in ttfont:\n",
    "    print(\"Truetype only. :-(\")\n",
    "\n",
    "def derive_sidebearings(keyglyph,glyphset):\n",
    "    keyspace = int(pdd[(keyglyph,keyglyph)] / (f.scale_factor * 2))\n",
    "    set_sidebearings(keyglyph, keyspace, keyspace)\n",
    "    print(\"Key glyph: %s = %i - %i\" % (keyglyph, keyspace, keyspace))\n",
    "    for g in glyphset:\n",
    "        lsb = int(pdd[(keyglyph,g)] / f.scale_factor) - keyspace\n",
    "        rsb = int(pdd[(g,keyglyph)] / f.scale_factor) - keyspace\n",
    "        print(\"%s = %i - %i\" % (g,lsb,rsb))\n",
    "        set_sidebearings(g,lsb,rsb)\n",
    "\n",
    "derive_sidebearings(\"H\", string.ascii_uppercase) # Use O if H is very swashy\n",
    "derive_sidebearings(\"n\", string.ascii_lowercase)\n",
    "\n",
    "del ttfont[\"GPOS\"]\n",
    "for l in string.ascii_letters:\n",
    "    width_l, lsb_l = ttfont[\"hmtx\"].metrics[l]\n",
    "    rsb_l = width_l - max([f[0] for f in ttfont[\"glyf\"][l].coordinates])\n",
    "    for r in string.ascii_letters:\n",
    "        width_r, lsb_r = ttfont[\"hmtx\"].metrics[r]\n",
    "        currentspace = rsb_l + lsb_r\n",
    "        desiredspace = int(pdd[(l,r)] / f.scale_factor)\n",
    "        ttfont[\"kern\"].kernTables[0][l,r] = desiredspace - currentspace        \n",
    "\n",
    "ttfont.save(\"autokerned-\"+f.filename)\n"
   ]
  },
  {
   "cell_type": "code",
   "execution_count": null,
   "metadata": {},
   "outputs": [],
   "source": [
    "print(pdd[\"n\",\"n\"] / (f.scale_factor*2))\n",
    "width_l, lsb_l = ttfont[\"hmtx\"].metrics[\"n\"]\n",
    "rsb_l = width_l - max([f[0] for f in ttfont[\"glyf\"][\"n\"].coordinates])\n",
    "print(rsb_l)"
   ]
  },
  {
   "cell_type": "code",
   "execution_count": null,
   "metadata": {},
   "outputs": [],
   "source": []
  },
  {
   "cell_type": "code",
   "execution_count": null,
   "metadata": {},
   "outputs": [],
   "source": []
  },
  {
   "cell_type": "code",
   "execution_count": null,
   "metadata": {},
   "outputs": [],
   "source": []
  }
 ],
 "metadata": {
  "colab": {
   "collapsed_sections": [],
   "name": "Spacing with countershapes.ipynb",
   "provenance": [],
   "version": "0.3.2"
  },
  "kernelspec": {
   "display_name": "Python 3",
   "language": "python",
   "name": "python3"
  },
  "language_info": {
   "codemirror_mode": {
    "name": "ipython",
    "version": 3
   },
   "file_extension": ".py",
   "mimetype": "text/x-python",
   "name": "python",
   "nbconvert_exporter": "python",
   "pygments_lexer": "ipython3",
   "version": "3.7.4"
  }
 },
 "nbformat": 4,
 "nbformat_minor": 1
}
